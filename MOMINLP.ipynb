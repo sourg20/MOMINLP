{
 "cells": [
  {
   "cell_type": "code",
   "execution_count": 3,
   "id": "e8221721-3bf6-46e6-973d-5afe58a21ebf",
   "metadata": {},
   "outputs": [],
   "source": [
    "import gurobipy as gp\n",
    "# import numpy as np\n",
    "import math"
   ]
  },
  {
   "cell_type": "markdown",
   "id": "3aea228f",
   "metadata": {},
   "source": [
    "## Explain the model\n",
    "As we know the optimization problem is multi-objective optimization problem. But here as you wanted first we implement $z_1$ as single-objective. \n",
    "I wrote each part separately and simple you can see the parameters values(fixed values), decision variables, Objective Function, Constraints, Solver and Solution results."
   ]
  },
  {
   "cell_type": "code",
   "execution_count": 4,
   "id": "53b260d7",
   "metadata": {},
   "outputs": [],
   "source": [
    "# Define dimensions of optimization problem\n",
    "\n",
    "I = 3 # number of Customer\n",
    "J = 5 # Number of Supplier\n",
    "T = 4 # number of time periods"
   ]
  },
  {
   "cell_type": "code",
   "execution_count": 5,
   "id": "b7b7ed3c",
   "metadata": {},
   "outputs": [],
   "source": [
    "# Define parameter values\n",
    "c = [[550, 480, 420, 890, 790],[570, 85, 450, 235, 525],[825, 430, 850, 390, 720]]\n",
    "p = [[66, 73, 62, 60, 71],[121, 134, 127, 142, 122],[28, 26, 29, 25, 23]]\n",
    "s0 = [[0.95, 0.97, 0.94, 0.99, 0.98],[0.92, 0.99, 0.91, 0.99, 0.92],[0.99, 0.98, 0.99, 0.97, 0.99]]\n",
    "f0 = [[0.95, 0.98, 0.92, 0.96, 0.99],[0.89, 0.92, 0.95, 0.90, 0.91],[0.93, 0.87, 0.88, 0.83, 0.87]]\n",
    "gamma = [[0.0013, 0.0011, 0.001, 0.001, 0.0011],[0.00, 0.0014, 0.002, 0.0015, 0.002],[0.0011, 0.0016, 0.001, 0.002, 0.0011]]\n",
    "Lambda = [[0.001, 0.002, 0.0015, 0.001, 0.001],[0.00, 0.0015, 0.001, 0.002, 0.002],[0.001, 0.002, 0.0015, 0.0015, 0.0012]]\n",
    "d = [[454, 540, 675, 755],[327, 320, 290, 285],[645, 650, 637, 663]]\n",
    "beta = [0.08, 0.1, 0.09, 0.12, 0.09]\n",
    "o = [45000, 64500, 37250, 53400, 42250]\n",
    "v = [85, 150, 85, 100, 150]\n",
    "g = [33500, 55200, 33500, 38400, 55200]\n",
    "h = [12, 35, 7]\n",
    "w = [0.75, 0.85, 0.60]\n",
    "b = [17, 38, 10]\n",
    "W = 150"
   ]
  },
  {
   "cell_type": "code",
   "execution_count": 6,
   "id": "5728540e-4b09-4f38-abae-a1abe52b0673",
   "metadata": {},
   "outputs": [
    {
     "name": "stdout",
     "output_type": "stream",
     "text": [
      "Restricted license - for non-production use only - expires 2024-10-28\n"
     ]
    }
   ],
   "source": [
    "# Define the decision variables\n",
    "\n",
    "x = {} # order quantity for each product in each period\n",
    "y = {} # binary variable for each product in each period\n",
    "z = {}\n",
    "model = gp.Model(\"Minz1\")\n",
    "\n",
    "for j in range(J):\n",
    "    for t in range(T):\n",
    "        for i in range(I):\n",
    "            x[i,j,t] = model.addVar(vtype=gp.GRB.INTEGER,name=\"X%d%d%d\" % (i+1,j+1,t+1), lb = 0, ub = c[i][j])\n",
    "        y[j,t] = model.addVar(vtype=gp.GRB.BINARY, name=\"y%d%d\" % (j+1,t+1))\n",
    "        # z[j,t] = model.addVar(vtype=gp.GRB.CONTINUOUS, name=\"z%d%d\" % (j+1, t+1))"
   ]
  },
  {
   "cell_type": "markdown",
   "id": "a691368e",
   "metadata": {},
   "source": [
    "## Define Objective function\n",
    "\n",
    "As we can see the $z_1$ has 4 part, and each part is sum of terms. So first we create each part using <span>quicksum</span> function, and name as <span color=\"red\"> a, b, c, d </span>. Finally we define $z_1$ as sum of $z_{1a}$, $z_{1b}$, $z_{1c}$, $z_{1d}$."
   ]
  },
  {
   "cell_type": "code",
   "execution_count": 7,
   "id": "9035277d",
   "metadata": {},
   "outputs": [],
   "source": [
    "# Define Objective Function (z1)\n",
    "z1_a = gp.quicksum(p[i][j]*x[i,j,t] for i in range(I) for j in range(J) for t in range(T))\n",
    "z1_b = gp.quicksum(o[j]*math.exp(-beta[j])*y[j,t] for j in range(J) for t in range(T))\n",
    "z1_c = gp.quicksum(h[i]*(gp.quicksum(x[i,j,k] for j in range(J) for k in range(t))-gp.quicksum((1-s0[i][j]*math.exp(gamma[i][j]*t)*x[i,j,t]) for j in range(J))-gp.quicksum(d[i][k] for k in range(t))) for i in range(I) for t in range(T))\n",
    "z1_d = gp.quicksum(g[j]*(gp.quicksum(w[i]*x[i,j,t]/v[j] for i in range(I))) for j in range(J) for t in range(T))\n",
    "z1_obj = z1_a + z1_b + z1_c + z1_d\n",
    "# model.addGenConstrExp(x, y)\n",
    "# *math.exp(-beta[j]*gp.quicksum(y[j,k] for k in range(t)))\n"
   ]
  },
  {
   "cell_type": "code",
   "execution_count": 8,
   "id": "c4cc6357",
   "metadata": {},
   "outputs": [],
   "source": [
    "z2_obj = gp.quicksum(f0[i][j]*math.exp(Lambda[i][j]*t)*x[i,j,t] for i in range(I) for j in range(J) for t in range(T))\n",
    "z3_obj = gp.quicksum(s0[i][j]*math.exp(gamma[i][j]*t)*x[i,j,t] for i in range(I) for j in range(J) for t in range(T))"
   ]
  },
  {
   "cell_type": "code",
   "execution_count": 9,
   "id": "e6fd3137",
   "metadata": {},
   "outputs": [],
   "source": [
    "# Add z_1 as objective function to model\n",
    "model.setObjectiveN(z1_obj, index=1, priority=0)\n",
    "model.setObjectiveN(-z2_obj, index=2, priority=1)\n",
    "model.setObjectiveN(-z3_obj, index=3, priority=1)\n",
    "model.ModelSense = gp.GRB.MINIMIZE"
   ]
  },
  {
   "cell_type": "markdown",
   "id": "813d308d",
   "metadata": {},
   "source": [
    "## Define constraints\n",
    "In this part we define the constraints separately and add them as constraint to model. Constraint (6) which has ==, is impossible because $x_{ijt}$ is integer and there is some float values in constraint. So we define that as two constraint to bound the value in $(0, 0.5)$ interval."
   ]
  },
  {
   "cell_type": "code",
   "execution_count": 10,
   "id": "93d3806b",
   "metadata": {},
   "outputs": [],
   "source": [
    "# Define Constraints\n",
    "\n",
    "# Constraint (4)\n",
    "for i in range(I):\n",
    "    for t in range(T):\n",
    "        model.addConstr(gp.quicksum(x[i,j,k] for k in range(t) for j in range(J))-gp.quicksum(d[i][k] for k in range(t)) >= gp.quicksum((1-s0[i][j]*math.exp(gamma[i][j]*t) for j in range(J)))*x[i,j,t])\n",
    "# Constraint (5)\n",
    "for i in range(I):\n",
    "    for t in range(T):\n",
    "        for j in range(J):\n",
    "            model.addConstr(gp.quicksum(d[i][k] for k in range(t,T))*y[j,t]-x[i,j,t] >= 0)\n",
    "            \n",
    "# Constraint (6)\n",
    "for i in range(I):\n",
    "    model.addConstr(gp.quicksum(x[i,j,t] for t in range(T) for j in range(J))-gp.quicksum((1-s0[i][j]*math.exp(gamma[i][j]*T))*x[i,j,T-1] for j in range(J)) - gp.quicksum(d[i][t] for t in range(T)) <= 0.5)\n",
    "    model.addConstr(gp.quicksum(x[i,j,k] for k in range(T) for j in range(J))-gp.quicksum((1-s0[i][j]*math.exp(gamma[i][j]*T))*x[i,j,T-1] for j in range(J)) - gp.quicksum(d[i][t] for t in range(T)) >= 0.0)\n",
    "\n",
    "# Constraint (7)    \n",
    "for t in range(T):\n",
    "    model.addConstr(gp.quicksum(w[i]*(gp.quicksum(x[i,j,k] for k in range(t) for j in range(J))-gp.quicksum((1-s0[i][j]*math.exp(gamma[i][j]*t))*x[i,j,t] for j in range(J))-gp.quicksum(d[i][k] for k in range(t))) for i in range(I)) <= W)\n"
   ]
  },
  {
   "cell_type": "markdown",
   "id": "89da86f5",
   "metadata": {},
   "source": [
    "## Run Optimization\n",
    "Here we run the optimization problem and gurobi try to solve that."
   ]
  },
  {
   "cell_type": "code",
   "execution_count": 11,
   "id": "05086764",
   "metadata": {},
   "outputs": [
    {
     "name": "stdout",
     "output_type": "stream",
     "text": [
      "Gurobi Optimizer version 10.0.1 build v10.0.1rc0 (win64)\n",
      "\n",
      "CPU model: Intel(R) Core(TM) i5-10210U CPU @ 1.60GHz, instruction set [SSE2|AVX|AVX2]\n",
      "Thread count: 4 physical cores, 8 logical processors, using up to 8 threads\n",
      "\n",
      "Optimize a model with 82 rows, 80 columns and 492 nonzeros\n",
      "Model fingerprint: 0xd7a35e7a\n",
      "Variable types: 0 continuous, 80 integer (20 binary)\n",
      "Coefficient statistics:\n",
      "  Matrix range     [4e-03, 3e+03]\n",
      "  Objective range  [8e-01, 6e+04]\n",
      "  Bounds range     [1e+00, 9e+02]\n",
      "  RHS range        [2e+02, 3e+03]\n",
      "\n",
      "---------------------------------------------------------------------------\n",
      "Multi-objectives: starting optimization with 4 objectives (2 combined) ...\n",
      "---------------------------------------------------------------------------\n",
      "\n",
      "Multi-objectives: applying initial presolve ...\n",
      "---------------------------------------------------------------------------\n",
      "\n",
      "Presolve removed 7 rows and 3 columns\n",
      "Presolve time: 0.01s\n",
      "Presolved: 75 rows and 77 columns\n",
      "---------------------------------------------------------------------------\n",
      "\n",
      "Multi-objectives: optimize objective 1 (weighted) ...\n",
      "---------------------------------------------------------------------------\n",
      "\n",
      "Presolve removed 57 rows and 21 columns\n",
      "Presolve time: 0.00s\n",
      "Presolved: 18 rows, 56 columns, 322 nonzeros\n",
      "Variable types: 0 continuous, 56 integer (0 binary)\n",
      "\n",
      "Root relaxation: objective -1.215447e+04, 14 iterations, 0.00 seconds (0.00 work units)\n",
      "\n",
      "    Nodes    |    Current Node    |     Objective Bounds      |     Work\n",
      " Expl Unexpl |  Obj  Depth IntInf | Incumbent    BestBd   Gap | It/Node Time\n",
      "\n",
      "     0     0 -12154.469    0    6          - -12154.469      -     -    0s\n",
      "H    0     0                    -12152.00951 -12154.469  0.02%     -    0s\n",
      "H    0     0                    -12153.62622 -12154.469  0.01%     -    0s\n",
      "\n",
      "Explored 1 nodes (14 simplex iterations) in 0.07 seconds (0.00 work units)\n",
      "Thread count was 8 (of 8 available processors)\n",
      "\n",
      "Solution count 2: -12153.6 -12152 \n",
      "\n",
      "Optimal solution found (tolerance 1.00e-04)\n",
      "Best objective -1.215362622143e+04, best bound -1.215446898109e+04, gap 0.0069%\n",
      "---------------------------------------------------------------------------\n",
      "\n",
      "Multi-objectives: optimize objective 2 (weighted) ...\n",
      "---------------------------------------------------------------------------\n",
      "\n",
      "\n",
      "Loaded user MIP start with objective 3.04493e+06\n",
      "\n",
      "Presolve removed 0 rows and 1 columns\n",
      "Presolve time: 0.00s\n",
      "Presolved: 76 rows, 76 columns, 501 nonzeros\n",
      "Variable types: 0 continuous, 76 integer (19 binary)\n",
      "Found heuristic solution: objective 2929397.8223\n",
      "\n",
      "Root relaxation: objective 2.795035e+06, 110 iterations, 0.00 seconds (0.00 work units)\n",
      "\n",
      "    Nodes    |    Current Node    |     Objective Bounds      |     Work\n",
      " Expl Unexpl |  Obj  Depth IntInf | Incumbent    BestBd   Gap | It/Node Time\n",
      "\n",
      "     0     0 2795034.64    0   17 2929397.82 2795034.64  4.59%     -    0s\n",
      "     0     0 2801046.83    0   19 2929397.82 2801046.83  4.38%     -    0s\n",
      "H    0     0                    2929383.8376 2801046.83  4.38%     -    0s\n",
      "     0     0 2871834.59    0   12 2929383.84 2871834.59  1.96%     -    0s\n",
      "     0     0 2894268.53    0    9 2929383.84 2894268.53  1.20%     -    0s\n",
      "H    0     0                    2895309.7279 2894268.53  0.04%     -    0s\n",
      "     0     0 2894275.83    0   11 2895309.73 2894275.83  0.04%     -    0s\n",
      "H    0     0                    2895307.8483 2894275.83  0.04%     -    0s\n",
      "H    0     0                    2895263.2774 2894275.83  0.03%     -    0s\n",
      "     0     0 2894293.69    0   12 2895263.28 2894293.69  0.03%     -    0s\n",
      "     0     0 2894535.32    0    9 2895263.28 2894535.32  0.03%     -    0s\n",
      "H    0     0                    2895260.3373 2894535.32  0.03%     -    0s\n",
      "     0     0 2894535.32    0    8 2895260.34 2894535.32  0.03%     -    0s\n",
      "     0     0 2894535.32    0    9 2895260.34 2894535.32  0.03%     -    0s\n",
      "     0     0 2894538.46    0    9 2895260.34 2894538.46  0.02%     -    0s\n",
      "     0     0 2894538.88    0    8 2895260.34 2894538.88  0.02%     -    0s\n",
      "     0     0 2894539.66    0    9 2895260.34 2894539.66  0.02%     -    0s\n",
      "     0     0 2894541.02    0    7 2895260.34 2894541.02  0.02%     -    0s\n",
      "     0     0 2894541.02    0    7 2895260.34 2894541.02  0.02%     -    0s\n",
      "     0     2 2894541.02    0    7 2895260.34 2894541.02  0.02%     -    0s\n",
      "H32822  6223                    2895237.8421 2894698.89  0.02%   1.9    3s\n",
      " 41064  6238 2894929.67   48    9 2895237.84 2894702.05  0.02%   1.9    5s\n",
      " 108869  9409 infeasible   56      2895237.84 2894889.85  0.01%   2.0   10s\n",
      "\n",
      "Cutting planes:\n",
      "  Gomory: 20\n",
      "  MIR: 43\n",
      "  StrongCG: 10\n",
      "  Inf proof: 14\n",
      "\n",
      "Explored 145995 nodes (292937 simplex iterations) in 12.12 seconds (2.43 work units)\n",
      "Thread count was 8 (of 8 available processors)\n",
      "\n",
      "Solution count 8: 2.89524e+06 2.89526e+06 2.89526e+06 ... 3.04493e+06\n",
      "\n",
      "Optimal solution found (tolerance 1.00e-04)\n",
      "Best objective 2.895237842075e+06, best bound 2.894950085686e+06, gap 0.0099%\n",
      "\n",
      "---------------------------------------------------------------------------\n",
      "Multi-objectives: solved in 12.14 seconds (2.43 work units), solution count 9\n",
      "\n"
     ]
    }
   ],
   "source": [
    "model.optimize()"
   ]
  },
  {
   "cell_type": "markdown",
   "id": "4fcef36c",
   "metadata": {},
   "source": [
    "## Print the results of optimization\n",
    "\n",
    "Now we print the solution of Gurobi for minimizing $z_1$, and maximizing $z_2$ and $z_3$. The value of $x_{ijt}$ and $y_{jt}$ are shown below."
   ]
  },
  {
   "cell_type": "code",
   "execution_count": 12,
   "id": "fba2535f",
   "metadata": {},
   "outputs": [
    {
     "name": "stdout",
     "output_type": "stream",
     "text": [
      "X111 = 0\tX112 = 0\tX113 = 0\tX114 = 4\t \n",
      "X121 = 0\tX122 = 0\tX123 = 0\tX124 = 479\t \n",
      "X131 = 0\tX132 = 0\tX133 = 0\tX134 = 2\t \n",
      "X141 = 545\tX142 = 0\tX143 = 0\tX144 = 0\t \n",
      "X151 = 0\tX152 = 548\tX153 = 615\tX154 = 248\t \n",
      "X211 = 7\tX212 = 0\tX213 = 0\tX214 = 22\t \n",
      "X221 = 85\tX222 = 85\tX223 = 85\tX224 = 0\t \n",
      "X231 = 0\tX232 = 0\tX233 = 0\tX234 = 285\t \n",
      "X241 = 235\tX242 = 235\tX243 = 206\tX244 = 0\t \n",
      "X251 = 0\tX252 = 0\tX253 = 0\tX254 = 3\t \n",
      "X311 = 645\tX312 = 650\tX313 = 638\tX314 = 663\t \n",
      "X321 = 0\tX322 = 0\tX323 = 0\tX324 = 0\t \n",
      "X331 = 0\tX332 = 0\tX333 = 0\tX334 = 0\t \n",
      "X341 = 0\tX342 = 0\tX343 = 0\tX344 = 0\t \n",
      "X351 = 0\tX352 = 0\tX353 = 0\tX354 = 3\t \n"
     ]
    }
   ],
   "source": [
    "for i in range(I):\n",
    "    for j in range(J):\n",
    "        for t in range(T):\n",
    "            print(\"X%d%d%d = %d\"%(i+1, j+1, t+1, x.get((i,j,t)).X), end = \"\\t\")\n",
    "        print(\" \")"
   ]
  },
  {
   "cell_type": "code",
   "execution_count": 13,
   "id": "917cb30e",
   "metadata": {},
   "outputs": [
    {
     "name": "stdout",
     "output_type": "stream",
     "text": [
      "y11 = 1  \ty12 = 1  \ty13 = 1  \ty14 = 1  \t \n",
      "y21 = 1  \ty22 = 1  \ty23 = 1  \ty24 = 1  \t \n",
      "y31 = 0  \ty32 = 0  \ty33 = 0  \ty34 = 1  \t \n",
      "y41 = 1  \ty42 = 1  \ty43 = 1  \ty44 = 0  \t \n",
      "y51 = 0  \ty52 = 1  \ty53 = 1  \ty54 = 1  \t \n"
     ]
    }
   ],
   "source": [
    "for j in range(J):\n",
    "    for t in range(T):\n",
    "        print(\"y%d%d = %d\"%(j+1, t+1, y.get((j,t)).X), end = \"  \\t\")\n",
    "    print(\" \")"
   ]
  },
  {
   "cell_type": "code",
   "execution_count": 14,
   "id": "0395d3fc",
   "metadata": {},
   "outputs": [
    {
     "name": "stdout",
     "output_type": "stream",
     "text": [
      "z1 = 2895237.842075\n",
      "z2 = 5965.677456\n",
      "z3 = 6187.580089\n"
     ]
    }
   ],
   "source": [
    "print(\"z1 = %f\"%(z1_obj.getValue()))\n",
    "print(\"z2 = %f\"%(z2_obj.getValue()))\n",
    "print(\"z3 = %f\"%(z3_obj.getValue()))"
   ]
  },
  {
   "cell_type": "code",
   "execution_count": 17,
   "id": "1c59eadd",
   "metadata": {},
   "outputs": [
    {
     "data": {
      "text/plain": [
       "\u001b[1;31mSignature:\u001b[0m\n",
       "\u001b[0mmodel\u001b[0m\u001b[1;33m.\u001b[0m\u001b[0msetObjectiveN\u001b[0m\u001b[1;33m(\u001b[0m\u001b[1;33m\n",
       "\u001b[0m    \u001b[0mexpr\u001b[0m\u001b[1;33m,\u001b[0m\u001b[1;33m\n",
       "\u001b[0m    \u001b[0mindex\u001b[0m\u001b[1;33m,\u001b[0m\u001b[1;33m\n",
       "\u001b[0m    \u001b[0mpriority\u001b[0m\u001b[1;33m=\u001b[0m\u001b[1;36m0\u001b[0m\u001b[1;33m,\u001b[0m\u001b[1;33m\n",
       "\u001b[0m    \u001b[0mweight\u001b[0m\u001b[1;33m=\u001b[0m\u001b[1;36m1.0\u001b[0m\u001b[1;33m,\u001b[0m\u001b[1;33m\n",
       "\u001b[0m    \u001b[0mabstol\u001b[0m\u001b[1;33m=\u001b[0m\u001b[1;36m1e-06\u001b[0m\u001b[1;33m,\u001b[0m\u001b[1;33m\n",
       "\u001b[0m    \u001b[0mreltol\u001b[0m\u001b[1;33m=\u001b[0m\u001b[1;36m0.0\u001b[0m\u001b[1;33m,\u001b[0m\u001b[1;33m\n",
       "\u001b[0m    \u001b[0mname\u001b[0m\u001b[1;33m=\u001b[0m\u001b[1;34m''\u001b[0m\u001b[1;33m,\u001b[0m\u001b[1;33m\n",
       "\u001b[0m\u001b[1;33m)\u001b[0m\u001b[1;33m\u001b[0m\u001b[1;33m\u001b[0m\u001b[0m\n",
       "\u001b[1;31mDocstring:\u001b[0m\n",
       "ROUTINE:\n",
       "  setObjectiveN(expr, index)\n",
       "\n",
       "PURPOSE:\n",
       "  Set the model objective equal to a LinExpr or QuadExpr\n",
       "\n",
       "ARGUMENTS:\n",
       "  expr:     The desired objective function.  The objective can be\n",
       "            a linear expression (LinExpr) a variable (Var) or a constant.\n",
       "            This routine will replace the 'ObjNVal' attribute on model variables\n",
       "            with the corresponding values from the supplied expression for\n",
       "            multi-objective 'index'\n",
       "  index:    Identify which multi-objective to set\n",
       "  priority: Set the ObjNPriority attribute for this multi-objective (default is zero)\n",
       "  weight:   Set the ObjNWeight attribute for this multi-objective (default is 1.0)\n",
       "  abstol:   Set the ObjNAbsTol  attribute for this multi-objective (default is 1e-6)\n",
       "  reltol:   Set the ObjNRelTol  attribute for this multi-objective (default is zero)\n",
       "  name:     multi-objective name (default is no name)\n",
       "\n",
       "RETURN VALUE:\n",
       "  None.\n",
       "\n",
       "EXAMPLE:\n",
       "  model.setObjectiveN(x + y, 1)\n",
       "  model.setObjectiveN(x + y + 2*z, 2)\n",
       "\u001b[1;31mType:\u001b[0m      method\n"
      ]
     },
     "metadata": {},
     "output_type": "display_data"
    }
   ],
   "source": [
    "model.setObjectiveN?"
   ]
  },
  {
   "cell_type": "code",
   "execution_count": null,
   "id": "c41feb7f",
   "metadata": {},
   "outputs": [],
   "source": []
  }
 ],
 "metadata": {
  "kernelspec": {
   "display_name": "Python 3 (ipykernel)",
   "language": "python",
   "name": "python3"
  },
  "language_info": {
   "codemirror_mode": {
    "name": "ipython",
    "version": 3
   },
   "file_extension": ".py",
   "mimetype": "text/x-python",
   "name": "python",
   "nbconvert_exporter": "python",
   "pygments_lexer": "ipython3",
   "version": "3.9.13"
  }
 },
 "nbformat": 4,
 "nbformat_minor": 5
}
